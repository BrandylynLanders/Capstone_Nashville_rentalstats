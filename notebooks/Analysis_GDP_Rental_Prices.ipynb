{
 "cells": [
  {
   "cell_type": "code",
   "execution_count": 1,
   "id": "977ac4d8",
   "metadata": {},
   "outputs": [],
   "source": [
    "import pandas as pd\n",
    "import numpy as np\n",
    "import matplotlib.pyplot as plt\n",
    "import seaborn as sns\n",
    "import geopandas as gpd"
   ]
  },
  {
   "cell_type": "code",
   "execution_count": 2,
   "id": "b80184b3",
   "metadata": {},
   "outputs": [],
   "source": [
    "df_gdp = pd.read_csv('C:/Users/brand/Documents/DA8/Projects/capstone_nashville_da8/data/GDPALL47037.csv')"
   ]
  },
  {
   "cell_type": "code",
   "execution_count": 3,
   "id": "c7a4ddff",
   "metadata": {},
   "outputs": [],
   "source": [
    "#read in data\n",
    "df_gdp = pd.read_csv('C:/Users/brand/Documents/DA8/Projects/capstone_nashville_da8/data/GDPALL47037.csv')\n",
    "df_rental = pd.read_csv('C:/Users/brand/Documents/DA8/Projects/capstone_nashville_da8/data/avg_monthly_rent.csv')"
   ]
  },
  {
   "cell_type": "code",
   "execution_count": 4,
   "id": "84309bf1",
   "metadata": {},
   "outputs": [
    {
     "data": {
      "text/html": [
       "<div>\n",
       "<style scoped>\n",
       "    .dataframe tbody tr th:only-of-type {\n",
       "        vertical-align: middle;\n",
       "    }\n",
       "\n",
       "    .dataframe tbody tr th {\n",
       "        vertical-align: top;\n",
       "    }\n",
       "\n",
       "    .dataframe thead th {\n",
       "        text-align: right;\n",
       "    }\n",
       "</style>\n",
       "<table border=\"1\" class=\"dataframe\">\n",
       "  <thead>\n",
       "    <tr style=\"text-align: right;\">\n",
       "      <th></th>\n",
       "      <th>Date</th>\n",
       "      <th>Avg Rent</th>\n",
       "      <th>per_change</th>\n",
       "    </tr>\n",
       "  </thead>\n",
       "  <tbody>\n",
       "    <tr>\n",
       "      <th>0</th>\n",
       "      <td>1/1/2001</td>\n",
       "      <td>NaN</td>\n",
       "      <td>NaN</td>\n",
       "    </tr>\n",
       "    <tr>\n",
       "      <th>1</th>\n",
       "      <td>1/1/2002</td>\n",
       "      <td>NaN</td>\n",
       "      <td>#DIV/0!</td>\n",
       "    </tr>\n",
       "    <tr>\n",
       "      <th>2</th>\n",
       "      <td>1/1/2003</td>\n",
       "      <td>NaN</td>\n",
       "      <td>#DIV/0!</td>\n",
       "    </tr>\n",
       "    <tr>\n",
       "      <th>3</th>\n",
       "      <td>1/1/2004</td>\n",
       "      <td>NaN</td>\n",
       "      <td>#DIV/0!</td>\n",
       "    </tr>\n",
       "    <tr>\n",
       "      <th>4</th>\n",
       "      <td>1/1/2005</td>\n",
       "      <td>NaN</td>\n",
       "      <td>#DIV/0!</td>\n",
       "    </tr>\n",
       "  </tbody>\n",
       "</table>\n",
       "</div>"
      ],
      "text/plain": [
       "       Date  Avg Rent per_change\n",
       "0  1/1/2001       NaN        NaN\n",
       "1  1/1/2002       NaN    #DIV/0!\n",
       "2  1/1/2003       NaN    #DIV/0!\n",
       "3  1/1/2004       NaN    #DIV/0!\n",
       "4  1/1/2005       NaN    #DIV/0!"
      ]
     },
     "execution_count": 4,
     "metadata": {},
     "output_type": "execute_result"
    }
   ],
   "source": [
    "df_rental.head()"
   ]
  },
  {
   "cell_type": "code",
   "execution_count": 5,
   "id": "bad49f5f",
   "metadata": {},
   "outputs": [
    {
     "data": {
      "text/html": [
       "<div>\n",
       "<style scoped>\n",
       "    .dataframe tbody tr th:only-of-type {\n",
       "        vertical-align: middle;\n",
       "    }\n",
       "\n",
       "    .dataframe tbody tr th {\n",
       "        vertical-align: top;\n",
       "    }\n",
       "\n",
       "    .dataframe thead th {\n",
       "        text-align: right;\n",
       "    }\n",
       "</style>\n",
       "<table border=\"1\" class=\"dataframe\">\n",
       "  <thead>\n",
       "    <tr style=\"text-align: right;\">\n",
       "      <th></th>\n",
       "      <th>Date</th>\n",
       "      <th>GDP</th>\n",
       "      <th>per_change</th>\n",
       "    </tr>\n",
       "  </thead>\n",
       "  <tbody>\n",
       "    <tr>\n",
       "      <th>0</th>\n",
       "      <td>1/1/2001</td>\n",
       "      <td>33111741.0</td>\n",
       "      <td>0.00</td>\n",
       "    </tr>\n",
       "    <tr>\n",
       "      <th>1</th>\n",
       "      <td>1/1/2002</td>\n",
       "      <td>34361553.0</td>\n",
       "      <td>0.04</td>\n",
       "    </tr>\n",
       "    <tr>\n",
       "      <th>2</th>\n",
       "      <td>1/1/2003</td>\n",
       "      <td>36125704.0</td>\n",
       "      <td>0.05</td>\n",
       "    </tr>\n",
       "    <tr>\n",
       "      <th>3</th>\n",
       "      <td>1/1/2004</td>\n",
       "      <td>38033907.0</td>\n",
       "      <td>0.05</td>\n",
       "    </tr>\n",
       "    <tr>\n",
       "      <th>4</th>\n",
       "      <td>1/1/2005</td>\n",
       "      <td>39817170.0</td>\n",
       "      <td>0.05</td>\n",
       "    </tr>\n",
       "  </tbody>\n",
       "</table>\n",
       "</div>"
      ],
      "text/plain": [
       "       Date         GDP  per_change\n",
       "0  1/1/2001  33111741.0        0.00\n",
       "1  1/1/2002  34361553.0        0.04\n",
       "2  1/1/2003  36125704.0        0.05\n",
       "3  1/1/2004  38033907.0        0.05\n",
       "4  1/1/2005  39817170.0        0.05"
      ]
     },
     "execution_count": 5,
     "metadata": {},
     "output_type": "execute_result"
    }
   ],
   "source": [
    "df_gdp.head()"
   ]
  },
  {
   "cell_type": "code",
   "execution_count": 6,
   "id": "50762834",
   "metadata": {},
   "outputs": [],
   "source": [
    "#convert date column \n",
    "df_gdp['Date'] = pd.to_datetime(df_gdp['Date'], format='%m/%d/%Y')\n",
    "df_rental['Date'] = pd.to_datetime(df_rental['Date'], format='%m/%d/%Y')"
   ]
  },
  {
   "cell_type": "code",
   "execution_count": 7,
   "id": "99ebfc61",
   "metadata": {},
   "outputs": [],
   "source": [
    "#filter to 2015 to 2022\n",
    "df_gdp = df_gdp[df_gdp['Date'].dt.year.between(2016, 2022)]\n",
    "df_rental = df_rental[df_rental['Date'].dt.year.between(2016, 2022)]"
   ]
  },
  {
   "cell_type": "code",
   "execution_count": 8,
   "id": "12adcb6c",
   "metadata": {},
   "outputs": [],
   "source": [
    "#calculate change in GDP and rental price percentage change\n",
    "df_gdp['GDP Change'] = df_gdp['GDP'].diff()\n",
    "df_rental['Rental Price Change'] = df_rental['Avg Rent'].pct_change() * 100"
   ]
  },
  {
   "cell_type": "code",
   "execution_count": 9,
   "id": "0e13f6b8",
   "metadata": {},
   "outputs": [],
   "source": [
    "#merge the data\n",
    "df_merged = pd.merge(df_gdp, df_rental, on='Date')"
   ]
  },
  {
   "cell_type": "code",
   "execution_count": 10,
   "id": "fd1bf072",
   "metadata": {},
   "outputs": [],
   "source": [
    "#covert to numeric\n",
    "df_merged['GDP Change'] = pd.to_numeric(df_merged['GDP Change'], errors='coerce')\n",
    "df_merged['Rental Price Change'] = pd.to_numeric(df_merged['Rental Price Change'], errors='coerce')"
   ]
  },
  {
   "cell_type": "code",
   "execution_count": 11,
   "id": "5bc6721b",
   "metadata": {},
   "outputs": [
    {
     "data": {
      "text/html": [
       "<div>\n",
       "<style scoped>\n",
       "    .dataframe tbody tr th:only-of-type {\n",
       "        vertical-align: middle;\n",
       "    }\n",
       "\n",
       "    .dataframe tbody tr th {\n",
       "        vertical-align: top;\n",
       "    }\n",
       "\n",
       "    .dataframe thead th {\n",
       "        text-align: right;\n",
       "    }\n",
       "</style>\n",
       "<table border=\"1\" class=\"dataframe\">\n",
       "  <thead>\n",
       "    <tr style=\"text-align: right;\">\n",
       "      <th></th>\n",
       "      <th>Date</th>\n",
       "      <th>GDP</th>\n",
       "      <th>per_change_x</th>\n",
       "      <th>GDP Change</th>\n",
       "      <th>Avg Rent</th>\n",
       "      <th>per_change_y</th>\n",
       "      <th>Rental Price Change</th>\n",
       "    </tr>\n",
       "  </thead>\n",
       "  <tbody>\n",
       "    <tr>\n",
       "      <th>0</th>\n",
       "      <td>2016-01-01</td>\n",
       "      <td>63608592.00</td>\n",
       "      <td>0.05</td>\n",
       "      <td>NaN</td>\n",
       "      <td>1251.66</td>\n",
       "      <td>0.04</td>\n",
       "      <td>NaN</td>\n",
       "    </tr>\n",
       "    <tr>\n",
       "      <th>1</th>\n",
       "      <td>2017-01-01</td>\n",
       "      <td>66939774.00</td>\n",
       "      <td>0.05</td>\n",
       "      <td>3331182.00</td>\n",
       "      <td>1311.57</td>\n",
       "      <td>0.05</td>\n",
       "      <td>4.786444</td>\n",
       "    </tr>\n",
       "    <tr>\n",
       "      <th>2</th>\n",
       "      <td>2018-01-01</td>\n",
       "      <td>70872833.00</td>\n",
       "      <td>0.06</td>\n",
       "      <td>3933059.00</td>\n",
       "      <td>1356.17</td>\n",
       "      <td>0.03</td>\n",
       "      <td>3.400505</td>\n",
       "    </tr>\n",
       "    <tr>\n",
       "      <th>3</th>\n",
       "      <td>2019-01-01</td>\n",
       "      <td>75617629.00</td>\n",
       "      <td>0.07</td>\n",
       "      <td>4744796.00</td>\n",
       "      <td>1406.72</td>\n",
       "      <td>0.04</td>\n",
       "      <td>3.727409</td>\n",
       "    </tr>\n",
       "    <tr>\n",
       "      <th>4</th>\n",
       "      <td>2020-01-01</td>\n",
       "      <td>73649304.00</td>\n",
       "      <td>-0.03</td>\n",
       "      <td>-1968325.00</td>\n",
       "      <td>1476.52</td>\n",
       "      <td>0.05</td>\n",
       "      <td>4.961897</td>\n",
       "    </tr>\n",
       "    <tr>\n",
       "      <th>5</th>\n",
       "      <td>2021-01-01</td>\n",
       "      <td>86106457.00</td>\n",
       "      <td>0.17</td>\n",
       "      <td>12457153.00</td>\n",
       "      <td>1504.67</td>\n",
       "      <td>0.02</td>\n",
       "      <td>1.906510</td>\n",
       "    </tr>\n",
       "    <tr>\n",
       "      <th>6</th>\n",
       "      <td>2022-01-01</td>\n",
       "      <td>95631502.27</td>\n",
       "      <td>0.11</td>\n",
       "      <td>9525045.27</td>\n",
       "      <td>1789.93</td>\n",
       "      <td>0.19</td>\n",
       "      <td>18.958310</td>\n",
       "    </tr>\n",
       "  </tbody>\n",
       "</table>\n",
       "</div>"
      ],
      "text/plain": [
       "        Date          GDP  per_change_x   GDP Change  Avg Rent per_change_y  \\\n",
       "0 2016-01-01  63608592.00          0.05          NaN   1251.66         0.04   \n",
       "1 2017-01-01  66939774.00          0.05   3331182.00   1311.57         0.05   \n",
       "2 2018-01-01  70872833.00          0.06   3933059.00   1356.17         0.03   \n",
       "3 2019-01-01  75617629.00          0.07   4744796.00   1406.72         0.04   \n",
       "4 2020-01-01  73649304.00         -0.03  -1968325.00   1476.52         0.05   \n",
       "5 2021-01-01  86106457.00          0.17  12457153.00   1504.67         0.02   \n",
       "6 2022-01-01  95631502.27          0.11   9525045.27   1789.93         0.19   \n",
       "\n",
       "   Rental Price Change  \n",
       "0                  NaN  \n",
       "1             4.786444  \n",
       "2             3.400505  \n",
       "3             3.727409  \n",
       "4             4.961897  \n",
       "5             1.906510  \n",
       "6            18.958310  "
      ]
     },
     "execution_count": 11,
     "metadata": {},
     "output_type": "execute_result"
    }
   ],
   "source": [
    "df_merged"
   ]
  },
  {
   "cell_type": "code",
   "execution_count": 12,
   "id": "fa77c2fc",
   "metadata": {},
   "outputs": [],
   "source": [
    "df_merged['per_change_y'] = pd.to_numeric(df_merged['per_change_y'], errors='coerce')"
   ]
  },
  {
   "cell_type": "code",
   "execution_count": 13,
   "id": "f0cc1ff4",
   "metadata": {},
   "outputs": [
    {
     "name": "stdout",
     "output_type": "stream",
     "text": [
      "Correlation coefficient: 0.2517604783308422\n"
     ]
    }
   ],
   "source": [
    "#calculate the correlation\n",
    "correlation = df_merged['GDP Change'].corr(df_merged['Rental Price Change'])\n",
    "print(\"Correlation coefficient:\", correlation)"
   ]
  },
  {
   "cell_type": "code",
   "execution_count": 14,
   "id": "833edbca",
   "metadata": {},
   "outputs": [
    {
     "data": {
      "image/png": "[encoded data removed]",
      "text/plain": [
       "<Figure size 640x480 with 1 Axes>"
      ]
     },
     "metadata": {},
     "output_type": "display_data"
    }
   ],
   "source": [
    "#visualize\n",
    "plt.scatter(df_merged['GDP Change'], df_merged['Rental Price Change'], c=['blue' if x.year % 2 == 0 else 'green' for x in df_merged['Date']])\n",
    "plt.xlabel('GDP Change')\n",
    "plt.ylabel('Rental Price Change')\n",
    "plt.title('Correlation between GDP Change and Rental Price Change')\n",
    "plt.show()"
   ]
  },
  {
   "cell_type": "code",
   "execution_count": 15,
   "id": "6eb66939",
   "metadata": {},
   "outputs": [],
   "source": [
    "df_merged['GDP Change'] = pd.to_numeric(df_merged['GDP Change'], errors='coerce')\n",
    "df_merged['Rental Price Change'] = pd.to_numeric(df_merged['Rental Price Change'], errors='coerce')"
   ]
  },
  {
   "cell_type": "code",
   "execution_count": 19,
   "id": "f8527da1",
   "metadata": {},
   "outputs": [
    {
     "data": {
      "image/png": "[encoded data removed]",
      "text/plain": [
       "<Figure size 640x480 with 1 Axes>"
      ]
     },
     "metadata": {},
     "output_type": "display_data"
    }
   ],
   "source": [
    "# Plot the time series for GDP change\n",
    "plt.plot(df_merged['Date'], df_merged['per_change_x'], label='GDP Change')\n",
    "\n",
    "# Plot the time series for Rental Price change\n",
    "plt.plot(df_merged['Date'], df_merged['per_change_y'], label='Rental Price Change')\n",
    "\n",
    "# Set the labels and title for the plot\n",
    "plt.xlabel('Date')\n",
    "plt.ylabel('Change')\n",
    "plt.title('Time Series Plot: GDP Change vs. Rental Price Change')\n",
    "\n",
    "# Display a legend\n",
    "plt.legend()\n",
    "\n",
    "# Show the plot\n",
    "plt.show()"
   ]
  },
  {
   "cell_type": "code",
   "execution_count": 17,
   "id": "0995cc1e",
   "metadata": {},
   "outputs": [
    {
     "name": "stdout",
     "output_type": "stream",
     "text": [
      "Date                   datetime64[ns]\n",
      "GDP                           float64\n",
      "per_change_x                  float64\n",
      "GDP Change                    float64\n",
      "Avg Rent                      float64\n",
      "per_change_y                  float64\n",
      "Rental Price Change           float64\n",
      "dtype: object\n"
     ]
    }
   ],
   "source": [
    "print(df_merged.dtypes)"
   ]
  },
  {
   "cell_type": "code",
   "execution_count": null,
   "id": "dd4d0ce9",
   "metadata": {},
   "outputs": [],
   "source": []
  }
 ],
 "metadata": {
  "kernelspec": {
   "display_name": "Python 3 (ipykernel)",
   "language": "python",
   "name": "python3"
  },
  "language_info": {
   "codemirror_mode": {
    "name": "ipython",
    "version": 3
   },
   "file_extension": ".py",
   "mimetype": "text/x-python",
   "name": "python",
   "nbconvert_exporter": "python",
   "pygments_lexer": "ipython3",
   "version": "3.10.9"
  }
 },
 "nbformat": 4,
 "nbformat_minor": 5
}
